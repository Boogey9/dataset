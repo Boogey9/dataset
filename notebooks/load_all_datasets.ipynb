{
 "cells": [
  {
   "cell_type": "code",
   "execution_count": null,
   "metadata": {},
   "outputs": [],
   "source": [
    "!pip install pandas numpy"
   ]
  },
  {
   "cell_type": "code",
   "execution_count": 24,
   "metadata": {},
   "outputs": [],
   "source": [
    "import pandas as pd\n",
    "import os\n",
    "import sys"
   ]
  },
  {
   "cell_type": "code",
   "execution_count": 26,
   "metadata": {},
   "outputs": [],
   "source": [
    "def list_files(directory):\n",
    "    return [f for f in os.listdir(directory) if os.path.isfile(os.path.join(directory, f))]"
   ]
  },
  {
   "cell_type": "code",
   "execution_count": 34,
   "metadata": {},
   "outputs": [],
   "source": [
    "def read_dir_csv(folder: str) -> dict:\n",
    "    tmp = {}\n",
    "    for file in list_files(folder):\n",
    "        key = os.path.splitext(file)[0]\n",
    "        tmp[key] = pd.read_csv(folder + '/' + file)\n",
    "    return tmp"
   ]
  },
  {
   "cell_type": "code",
   "execution_count": null,
   "metadata": {},
   "outputs": [],
   "source": [
    "#sentences\n",
    "sentences_data_frames = read_dir_csv('../sentences') #dataframes for all dataSets from sentences folder {'index_name_of_file': DF of the dataset}\n",
    "\n",
    "#syntactic categories\n",
    "syntactic_categ_data_frames = read_dir_csv('../syntactic categories') #dataframes for all dataSets from syntactic categories folder {'index_name_of_file': DF of the dataset}\n",
    "\n",
    "#semantic categories\n",
    "semantic_categ_data_frames = read_dir_csv('../semantic categories') #dataframes for all dataSets from semantic categories folder {'index_name_of_file': DF of the dataset}\n",
    "\n",
    "#ongoing\n",
    "#ongoing_data_frames = read_dir_csv('../ongoing') #dataframes for all dataSets from ongoing folder {'index_name_of_file': DF of the dataset}\n",
    "\n",
    "#x-tra\n",
    "x_tra_data_frames = read_dir_csv('../x-tra')"
   ]
  },
  {
   "cell_type": "code",
   "execution_count": null,
   "metadata": {},
   "outputs": [],
   "source": []
  }
 ],
 "metadata": {
  "kernelspec": {
   "display_name": "venv",
   "language": "python",
   "name": "python3"
  },
  "language_info": {
   "codemirror_mode": {
    "name": "ipython",
    "version": 3
   },
   "file_extension": ".py",
   "mimetype": "text/x-python",
   "name": "python",
   "nbconvert_exporter": "python",
   "pygments_lexer": "ipython3",
   "version": "3.9.5"
  }
 },
 "nbformat": 4,
 "nbformat_minor": 2
}
